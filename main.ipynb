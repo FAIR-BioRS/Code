{
 "cells": [
  {
   "cell_type": "code",
   "execution_count": 73,
   "metadata": {},
   "outputs": [],
   "source": [
    "from github import Github\n",
    "import pandas as pd\n",
    "import time\n",
    "%matplotlib inline"
   ]
  },
  {
   "cell_type": "code",
   "execution_count": 74,
   "metadata": {},
   "outputs": [],
   "source": [
    "ACCESS_TOKEN = 'xxx'"
   ]
  },
  {
   "cell_type": "code",
   "execution_count": 75,
   "metadata": {},
   "outputs": [],
   "source": [
    "def search_github_repo_created_month(keywords, created_month):\n",
    "    created_month_query  = ' created:' + created_month\n",
    "    query = keywords + ' in:name'+ ' in:readme' + ' in:description' + created_month_query\n",
    "    result = g.search_repositories(query)\n",
    "    #print(f'Found {result.totalCount} repo(s)')\n",
    "    return result"
   ]
  },
  {
   "cell_type": "code",
   "execution_count": 76,
   "metadata": {},
   "outputs": [
    {
     "name": "stdout",
     "output_type": "stream",
     "text": [
      "     year month count\n",
      "0    2010    01     1\n",
      "1    2010    02     1\n",
      "2    2010    03     0\n",
      "3    2010    04     0\n",
      "4    2010    05     3\n",
      "5    2010    06     0\n",
      "6    2010    07     1\n",
      "7    2010    08     2\n",
      "8    2010    09     2\n",
      "9    2010    10     1\n",
      "10   2010    11     0\n",
      "11   2010    12     0\n",
      "12   2011    01     3\n",
      "13   2011    02     3\n",
      "14   2011    03     2\n",
      "15   2011    04     2\n",
      "16   2011    05     2\n",
      "17   2011    06     0\n",
      "18   2011    07     6\n",
      "19   2011    08     3\n",
      "20   2011    09     3\n",
      "21   2011    10     6\n",
      "22   2011    11     5\n",
      "23   2011    12     0\n",
      "24   2012    01     5\n",
      "25   2012    02     5\n",
      "26   2012    03     4\n",
      "27   2012    04     4\n",
      "28   2012    05    12\n",
      "29   2012    06    13\n",
      "..    ...   ...   ...\n",
      "114  2019    07   195\n",
      "115  2019    08   206\n",
      "116  2019    09   226\n",
      "117  2019    10   264\n",
      "118  2019    11   214\n",
      "119  2019    12   179\n",
      "120  2020    01   252\n",
      "121  2020    02   234\n",
      "122  2020    03   315\n",
      "123  2020    04   375\n",
      "124  2020    05   299\n",
      "125  2020    06   288\n",
      "126  2020    07   357\n",
      "127  2020    08   346\n",
      "128  2020    09   282\n",
      "129  2020    10   325\n",
      "130  2020    11   260\n",
      "131  2020    12   289\n",
      "132  2021    01   333\n",
      "133  2021    02   306\n",
      "134  2021    03   386\n",
      "135  2021    04   441\n",
      "136  2021    05   391\n",
      "137  2021    06   388\n",
      "138  2021    07   368\n",
      "139  2021    08   373\n",
      "140  2021    09   421\n",
      "141  2021    10   372\n",
      "142  2021    11   314\n",
      "143  2021    12   330\n",
      "\n",
      "[144 rows x 3 columns]\n"
     ]
    }
   ],
   "source": [
    "#search repositories on GitHub with \"biomedical\" included in the name, readme, or description for a given month in a year\n",
    "#since the GitHub API has a result rate limit of 1000, we search month by month assuming no single month has more than 1000 results\n",
    "#results are saved in a dataframe for further analysis\n",
    "keywords = 'biomedical'\n",
    "start_year = 2010\n",
    "end_year = 2021\n",
    "year_list = [str(x) for x in range(start_year, end_year+1)]\n",
    "month_list = [\"%.2d\" % x for x in range(1,13)]\n",
    "df = pd.DataFrame(columns = ['year', 'month', 'count'])\n",
    "search_count = 0\n",
    "search_limit = 30\n",
    "for year in year_list:\n",
    "    for month in month_list:\n",
    "        created_month = year + '-' + month\n",
    "        result = search_github_repo_created_month(keywords, created_month)\n",
    "        df.loc[len(df.index)] = [year, month, result.totalCount] \n",
    "        search_count += 1\n",
    "        if search_count == search_limit:\n",
    "            time.sleep(65)\n",
    "            search_count = 0\n",
    "print(df)"
   ]
  },
  {
   "cell_type": "code",
   "execution_count": 77,
   "metadata": {},
   "outputs": [
    {
     "name": "stdout",
     "output_type": "stream",
     "text": [
      "    year count\n",
      "0   2010    11\n",
      "1   2011    35\n",
      "2   2012    91\n",
      "3   2013   152\n",
      "4   2014   382\n",
      "5   2015   526\n",
      "6   2016   779\n",
      "7   2017  1289\n",
      "8   2018  1877\n",
      "9   2019  2592\n",
      "10  2020  3622\n",
      "11  2021  4423\n"
     ]
    }
   ],
   "source": [
    "#get year wise results\n",
    "df_yearwise = pd.DataFrame(columns = ['year', 'count'])\n",
    "for year in year_list:\n",
    "    df_sub = df[df['year'] == year]\n",
    "    total = df_sub['count'].sum()\n",
    "    df_yearwise.loc[len(df_yearwise.index)] = [year, total] \n",
    "print(df_yearwise)"
   ]
  },
  {
   "cell_type": "code",
   "execution_count": 78,
   "metadata": {},
   "outputs": [
    {
     "data": {
      "text/plain": [
       "<matplotlib.axes._subplots.AxesSubplot at 0x19097f583c8>"
      ]
     },
     "execution_count": 78,
     "metadata": {},
     "output_type": "execute_result"
    },
    {
     "data": {
      "image/png": "[encoded data removed]",
      "text/plain": [
       "<Figure size 432x288 with 1 Axes>"
      ]
     },
     "metadata": {
      "needs_background": "light"
     },
     "output_type": "display_data"
    }
   ],
   "source": [
    "df_yearwise.plot.bar(x='year', y='count', rot=0)"
   ]
  },
  {
   "cell_type": "code",
   "execution_count": 80,
   "metadata": {},
   "outputs": [],
   "source": [
    "df_yearwise.to_csv('github_biomedical_repo.csv')"
   ]
  },
  {
   "cell_type": "code",
   "execution_count": null,
   "metadata": {},
   "outputs": [],
   "source": []
  }
 ],
 "metadata": {
  "kernelspec": {
   "display_name": "Python 3",
   "language": "python",
   "name": "python3"
  },
  "language_info": {
   "codemirror_mode": {
    "name": "ipython",
    "version": 3
   },
   "file_extension": ".py",
   "mimetype": "text/x-python",
   "name": "python",
   "nbconvert_exporter": "python",
   "pygments_lexer": "ipython3",
   "version": "3.7.2"
  }
 },
 "nbformat": 4,
 "nbformat_minor": 2
}
